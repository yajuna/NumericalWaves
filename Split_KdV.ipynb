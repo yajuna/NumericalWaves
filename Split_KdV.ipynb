{
 "cells": [
  {
   "cell_type": "markdown",
   "metadata": {},
   "source": [
    "# To solve the nonlinear KdV equation, we use the split method that combines the FFT method, and FD method.\n",
    "\n",
    "$\\hat{u}_1(k,t+\\Delta t) = \\hat{u}(k,t)e^{ik^3\\Delta t}$\n",
    "\n",
    "$\\hat{u}(k,t+\\Delta t) = \\hat{u}_1(k,t+\\Delta t) - 3ik\\Delta t\\hat{u_1^2}$"
   ]
  },
  {
   "cell_type": "code",
   "execution_count": null,
   "metadata": {},
   "outputs": [],
   "source": [
    "## import packages\n",
    "import time\n",
    "import numpy as np\n",
    "#import scipy.sparse as spsp # sparse matrix \n",
    "import matplotlib\n",
    "matplotlib.use(\"Agg\")\n",
    "import matplotlib.pyplot as plt \n",
    "import matplotlib.animation as animation"
   ]
  },
  {
   "cell_type": "code",
   "execution_count": null,
   "metadata": {},
   "outputs": [],
   "source": [
    "# space and time parameters\n",
    "\n",
    "N = 2 ** 8\n",
    "x = np.linspace(-10,10,N)\n",
    "dx = x[1] - x[0]\n",
    "dk = 2 * np.pi/(N * dx)\n",
    "k = [n*dk for n in range(N//2 + 1)] + [(n - N)*dk for n in range(N//2+1, N)]\n",
    "k = np.array(k)\n",
    "dt = 0.4 / N ** 2\n",
    "\n",
    "T = 0.1\n",
    "ndt = int(T/dt)"
   ]
  },
  {
   "cell_type": "code",
   "execution_count": null,
   "metadata": {},
   "outputs": [],
   "source": [
    "# Formatting for the movie files\n",
    "Writer = animation.writers['ffmpeg']\n",
    "writer = Writer(fps=15, metadata=dict(artist='Me'), bitrate=1800)\n",
    "\n",
    "fig = plt.figure()\n",
    "img = []"
   ]
  },
  {
   "cell_type": "code",
   "execution_count": null,
   "metadata": {},
   "outputs": [],
   "source": [
    "# Initial condition f(x) = e^{-x^2}; find its Fourier transform \n",
    "f = np.exp(-x**2)\n",
    "# f = 2./np.cosh(x-3)**2\n",
    "f_hat = np.fft.fft(f)\n",
    "u = f_hat"
   ]
  },
  {
   "cell_type": "code",
   "execution_count": null,
   "metadata": {},
   "outputs": [],
   "source": [
    "## main time stepping\n",
    "\n",
    "for n in range(ndt):\n",
    "    # linear part with FFT\n",
    "    u = u * np.exp(1j * k ** 3 * dt)\n",
    "    # nonlinear part with time stepping\n",
    "    u = u - 3j * k * dt * np.fft.fft(np.fft.ifft(u) ** 2)\n",
    "    u_tick = np.fft.ifft(u)\n",
    "    img.append(plt.plot(x,u_tick,color=\"blue\"))   "
   ]
  },
  {
   "cell_type": "code",
   "execution_count": null,
   "metadata": {},
   "outputs": [],
   "source": [
    "# save video\n",
    "\n",
    "ani = animation.ArtistAnimation(fig,img, interval=50, blit=True, repeat_delay=0)\n",
    "\n",
    "timestr = time.strftime(\"%Y%m%d-%H%M%S\")\n",
    "\n",
    "ani.save('split_method_kdv' + timestr + '.mp4', writer=writer)"
   ]
  },
  {
   "cell_type": "code",
   "execution_count": null,
   "metadata": {},
   "outputs": [],
   "source": []
  }
 ],
 "metadata": {
  "kernelspec": {
   "display_name": "Python 3",
   "language": "python",
   "name": "python3"
  },
  "language_info": {
   "codemirror_mode": {
    "name": "ipython",
    "version": 3
   },
   "file_extension": ".py",
   "mimetype": "text/x-python",
   "name": "python",
   "nbconvert_exporter": "python",
   "pygments_lexer": "ipython3",
   "version": "3.7.4"
  }
 },
 "nbformat": 4,
 "nbformat_minor": 2
}
