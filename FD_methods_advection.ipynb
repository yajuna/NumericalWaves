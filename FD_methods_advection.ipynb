{
 "cells": [
  {
   "cell_type": "markdown",
   "metadata": {},
   "source": [
    "# In this notebook, we look at a few methods for the advection equation. \n",
    "\n",
    "## $u_t+cu_x=0$ is a linear wave equation. \n",
    "\n",
    "The solution is given by $u(x,t)=u_0(x-ct)$ where $u_0(x,0)$ is the initial condition."
   ]
  },
  {
   "cell_type": "code",
   "execution_count": 1,
   "metadata": {},
   "outputs": [],
   "source": [
    "## import packages\n",
    "import time\n",
    "import numpy as np\n",
    "#import scipy.sparse as spsp # sparse matrix \n",
    "import matplotlib\n",
    "matplotlib.use(\"Agg\")\n",
    "import matplotlib.pyplot as plt \n",
    "import matplotlib.animation as animation"
   ]
  },
  {
   "cell_type": "code",
   "execution_count": 2,
   "metadata": {},
   "outputs": [],
   "source": [
    "# define space \n",
    "L = 6.0\n",
    "N = 201\n",
    "x = np.linspace(0,L,N)\n",
    "dx = L/(N-1)\n",
    "\n",
    "# define time and CFL safety condition\n",
    "gamma = 0.8\n",
    "dt = dx * gamma# try unstable scheme as well 1.05\n",
    "T = 6.0\n",
    "ndt = int(T/dt)"
   ]
  },
  {
   "cell_type": "code",
   "execution_count": 3,
   "metadata": {},
   "outputs": [],
   "source": [
    "# define initial condition\n",
    "\n",
    "u = np.cos(x-3)#3./np.cosh(x-3)**2#"
   ]
  },
  {
   "cell_type": "markdown",
   "metadata": {},
   "source": [
    "## We look at two FD methods, one with Upwind method, and one with centered difference in space; both forward in time.\n",
    "\n",
    "Upwind in space: $U_j^{+1}=U_j-c\\frac{dt}{dx}(U_j-U_{j-1})$\n",
    "\n",
    "Centered difference in space: $U_j^{+1}=U_j-c\\frac{dt}{2dx}(U_{j+1}-U_{j-1})$"
   ]
  },
  {
   "cell_type": "code",
   "execution_count": 4,
   "metadata": {},
   "outputs": [],
   "source": [
    "# define matrix forward u_j = u_j - c dt / dx (u_j - u_j-1)\n",
    "\n",
    "Df = np.eye(N) # spsp.eye(N)\n",
    "\n",
    "for j in range(N-1):\n",
    "    Df[j+1,j] = -1\n",
    "    \n",
    "# periodic condition\n",
    "Df[0,N-1] = -1\n",
    "\n",
    "# define matrix centered difference u_j = u_j - .5c dt/dx (u_j+1 - u_j-1)\n",
    "Dc = np.zeros((N,N))\n",
    "    \n",
    "for j in range(N-1):\n",
    "    Dc[j,j+1] = 1\n",
    "    Dc[j+1,j] = -1\n",
    "\n",
    "# periodic condition\n",
    "Dc[N-1,0] = 1\n",
    "Dc[0,N-1] = -1"
   ]
  },
  {
   "cell_type": "code",
   "execution_count": 5,
   "metadata": {},
   "outputs": [],
   "source": [
    "# visualization \n",
    "\n",
    "# Set up formatting for the movie files\n",
    "Writer = animation.writers['ffmpeg']\n",
    "writer = Writer(fps=15, metadata=dict(artist='Me'), bitrate=1800)\n",
    "\n",
    "fig = plt.figure()\n",
    "\n",
    "img = []"
   ]
  },
  {
   "cell_type": "code",
   "execution_count": 6,
   "metadata": {},
   "outputs": [],
   "source": [
    "# Main time stepping \n",
    "\n",
    "for t in range(ndt):\n",
    "    \n",
    "# advection upwind\n",
    "    u = u - dt/dx*np.dot(Df,u)\n",
    "# advection centered\n",
    "    #u = u - 0.5*dt/dx*np.dot(Dc,u)\n",
    "    img.append(plt.plot(x,u,color=\"blue\"))\n",
    "    "
   ]
  },
  {
   "cell_type": "code",
   "execution_count": 7,
   "metadata": {},
   "outputs": [],
   "source": [
    "# save animation\n",
    "\n",
    "ani = animation.ArtistAnimation(fig,img, interval=50, blit=True, repeat_delay=0)\n",
    "\n",
    "timestr = time.strftime(\"%Y%m%d-%H%M%S\")\n",
    "\n",
    "ani.save('advection_upwind' + timestr + '.mp4', writer=writer)\n"
   ]
  },
  {
   "cell_type": "code",
   "execution_count": null,
   "metadata": {},
   "outputs": [],
   "source": []
  }
 ],
 "metadata": {
  "kernelspec": {
   "display_name": "Python 3",
   "language": "python",
   "name": "python3"
  },
  "language_info": {
   "codemirror_mode": {
    "name": "ipython",
    "version": 3
   },
   "file_extension": ".py",
   "mimetype": "text/x-python",
   "name": "python",
   "nbconvert_exporter": "python",
   "pygments_lexer": "ipython3",
   "version": "3.7.4"
  }
 },
 "nbformat": 4,
 "nbformat_minor": 2
}
