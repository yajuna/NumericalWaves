{
 "cells": [
  {
   "cell_type": "markdown",
   "metadata": {},
   "source": [
    "# In this notebook, we investigate the shock and dispersive effect of the KdV equation. "
   ]
  },
  {
   "cell_type": "markdown",
   "metadata": {},
   "source": [
    "## The KdV equation is of the form $u_t+6uu_x+u_{xxx}=0$. "
   ]
  },
  {
   "cell_type": "code",
   "execution_count": 1,
   "metadata": {},
   "outputs": [],
   "source": [
    "## import packages\n",
    "import time\n",
    "import numpy as np\n",
    "#import scipy.sparse as spsp # sparse matrix \n",
    "import matplotlib\n",
    "matplotlib.use(\"Agg\")\n",
    "import matplotlib.pyplot as plt \n",
    "import matplotlib.animation as animation"
   ]
  },
  {
   "cell_type": "code",
   "execution_count": 2,
   "metadata": {},
   "outputs": [],
   "source": [
    "# Formatting for the movie files\n",
    "Writer = animation.writers['ffmpeg']\n",
    "writer = Writer(fps=15, metadata=dict(artist='Me'), bitrate=1800)"
   ]
  },
  {
   "cell_type": "code",
   "execution_count": 3,
   "metadata": {},
   "outputs": [],
   "source": [
    "# define space \n",
    "L = 100.0\n",
    "N = 101\n",
    "x = np.linspace(0,L,N)\n",
    "\n",
    "dx = x[1] - x[0]\n",
    "dx3 = dx**3"
   ]
  },
  {
   "cell_type": "code",
   "execution_count": 4,
   "metadata": {},
   "outputs": [],
   "source": [
    "# define time and CFL safety condition\n",
    "\n",
    "gamma = 1./np.pi**3\n",
    "\n",
    "dt = 0.01#dx * gamma # \n",
    "\n",
    "T = 5.0\n",
    "\n",
    "ndt = int(T/dt)\n",
    "\n",
    "endtime = ndt #40# "
   ]
  },
  {
   "cell_type": "code",
   "execution_count": 5,
   "metadata": {},
   "outputs": [],
   "source": [
    "# define matrix\n",
    "\n",
    "D = np.eye(N) # spsp.eye(N)\n",
    "\n",
    "for j in range(0,N-1):\n",
    "    D[j+1,j] = -1\n",
    "    \n",
    "D[0,N-1] = -1\n",
    "\n",
    "D3 = np.linalg.matrix_power(D,3)"
   ]
  },
  {
   "cell_type": "code",
   "execution_count": 6,
   "metadata": {},
   "outputs": [],
   "source": [
    "# define initial condition\n",
    "\n",
    "u = 2./np.cosh(x-3)**2\n",
    "\n",
    "fig = plt.figure()\n",
    "\n",
    "img = []"
   ]
  },
  {
   "cell_type": "code",
   "execution_count": 7,
   "metadata": {},
   "outputs": [],
   "source": [
    "# main FD step\n",
    "\n",
    "for t in range(0, endtime):\n",
    "    \n",
    "# conservation kdv\n",
    "    #u = u - 3*dt/dx*np.dot(D,u**2) - dt/dx3*np.dot(D3,u)\n",
    "# burger, pure shock\n",
    "    u = u - 3*dt/dx*np.dot(D,u**2)\n",
    "\n",
    "# linearized kdv, pure dispersion\n",
    "    #u = u - dt/dx3*np.dot(D3,u) - 3*dt/dx*np.dot(D,u)\n",
    "\n",
    "# direct kdv\n",
    "    #u = u - 6*dt/dx*u*np.dot(D,u) - dt/dx3*np.dot(D3,u)\n",
    "    img.append(plt.plot(x,u,color=\"blue\"))"
   ]
  },
  {
   "cell_type": "code",
   "execution_count": 8,
   "metadata": {},
   "outputs": [],
   "source": [
    "# save video\n",
    "\n",
    "ani = animation.ArtistAnimation(fig,img, interval=50, blit=True, repeat_delay=0)\n",
    "\n",
    "timestr = time.strftime(\"%Y%m%d-%H%M%S\")\n",
    "\n",
    "ani.save('kdv_shock' + timestr + '.mp4', writer=writer)\n",
    "\n",
    "# plt.show()"
   ]
  },
  {
   "cell_type": "code",
   "execution_count": null,
   "metadata": {},
   "outputs": [],
   "source": []
  }
 ],
 "metadata": {
  "kernelspec": {
   "display_name": "Python 3",
   "language": "python",
   "name": "python3"
  },
  "language_info": {
   "codemirror_mode": {
    "name": "ipython",
    "version": 3
   },
   "file_extension": ".py",
   "mimetype": "text/x-python",
   "name": "python",
   "nbconvert_exporter": "python",
   "pygments_lexer": "ipython3",
   "version": "3.7.4"
  }
 },
 "nbformat": 4,
 "nbformat_minor": 5
}
